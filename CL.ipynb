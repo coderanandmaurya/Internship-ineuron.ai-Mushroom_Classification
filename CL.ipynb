{
 "cells": [
  {
   "cell_type": "code",
   "execution_count": 1,
   "id": "8194c74e",
   "metadata": {},
   "outputs": [],
   "source": [
    "import pandas as pd\n",
    "import numpy as np\n",
    "import matplotlib.pyplot as plt\n",
    "import seaborn as sns\n",
    "from sklearn.compose import ColumnTransformer\n",
    "from sklearn.preprocessing import LabelEncoder\n",
    "from sklearn.preprocessing import OrdinalEncoder\n",
    "from sklearn.feature_selection import SelectKBest,chi2\n",
    "from sklearn.ensemble import RandomForestClassifier\n",
    "from sklearn.pipeline import Pipeline"
   ]
  },
  {
   "cell_type": "code",
   "execution_count": 2,
   "id": "1c728156",
   "metadata": {},
   "outputs": [
    {
     "name": "stdout",
     "output_type": "stream",
     "text": [
      "4.0.0.6816\n"
     ]
    }
   ],
   "source": [
    "from cassandra.cluster import Cluster\n",
    "from cassandra.auth import PlainTextAuthProvider\n",
    "cloud_config= {'secure_connect_bundle': 'F:\\INTERNSHIP\\MS\\secure-connect-mushroomclassificationapp.zip'\n",
    "}\n",
    "auth_provider = PlainTextAuthProvider('osAwvxWvfldbJyZbsKWdvdUy', '6vhSlvZokW-peh9_Uin.ttf.6i-JegRYrnst138YLlwIZuZ99qfYjA9cai6laL.ZoO6K5tUPJ3tHv1vr.q7ZkNH8UMTb6oyLe2IkkbI75mxhfHgCsPL1rJ.,5wXZUjkT')\n",
    "cluster = Cluster(cloud=cloud_config, auth_provider=auth_provider)\n",
    "\n",
    "session = cluster.connect()\n",
    "\n",
    "row = session.execute(\"select release_version from system.local\").one()\n",
    "if row:\n",
    "    print(row[0])\n",
    "else:\n",
    "    print(\"An error occurred.\")"
   ]
  },
  {
   "cell_type": "code",
   "execution_count": 3,
   "id": "a759fc32",
   "metadata": {},
   "outputs": [],
   "source": [
    "def pandas_factory(colnames, rows):\n",
    "    return pd.DataFrame(rows, columns=colnames)\n",
    "\n",
    "session.row_factory = pandas_factory\n",
    "session.default_fetch_size = None\n",
    "\n",
    "query = \"SELECT * FROM mca.mushrooms\"\n",
    "rslt = session.execute(query, timeout=None)\n",
    "data = rslt._current_rows"
   ]
  },
  {
   "cell_type": "code",
   "execution_count": 4,
   "id": "70aae80c",
   "metadata": {},
   "outputs": [],
   "source": [
    "#data=pd.read_csv('mushrooms.csv')"
   ]
  },
  {
   "cell_type": "code",
   "execution_count": 5,
   "id": "c44c79b4",
   "metadata": {},
   "outputs": [],
   "source": [
    "#data.head()"
   ]
  },
  {
   "cell_type": "code",
   "execution_count": 6,
   "id": "37226e6b",
   "metadata": {},
   "outputs": [
    {
     "data": {
      "text/plain": [
       "(8124, 23)"
      ]
     },
     "execution_count": 6,
     "metadata": {},
     "output_type": "execute_result"
    }
   ],
   "source": [
    "data.shape"
   ]
  },
  {
   "cell_type": "markdown",
   "id": "42c55e17",
   "metadata": {},
   "source": [
    "# Mushroom Structure\n",
    "<img src=\"g.jpg\" width=\"240\" height=\"240\" align=\"center\"/>"
   ]
  },
  {
   "cell_type": "markdown",
   "id": "067f9b7e",
   "metadata": {},
   "source": [
    "# Attribute Information: \n",
    "## classes: \n",
    "- edible=e, poisonous=p\n",
    "\n",
    "# 1. CAP\n",
    "\n",
    "   **cap-shape** :bell=b, conical=c, convex=x, flat=f, knobbed=k, sunken=s\n",
    "\n",
    "   **cap-surface**  : fibrous=f, grooves=g, scaly=y, smooth=s\n",
    "\n",
    "   **cap-color** : brown=n, buff=b, cinnamon=c, gray=g, green=r, pink=p, purple=u, red=e, white=w, yellow=y\n",
    "\n",
    "# 2. BRUISES\n",
    "\n",
    "   **bruises** : bruises=t, no=f\n",
    "\n",
    "\n",
    "# 3. ODOR\n",
    "\n",
    "   **odor** :almond=a, anise=l, creosote=c, fishy=y, foul=f, musty=m, none=n, pungent=p, spicy=s\n",
    "\n",
    "\n",
    "# 4. GILL\n",
    "\n",
    "   **gill-attachment** : attached=a, descending=d, free=f, notched=n\n",
    "\n",
    "   **gill-spacing** : close=c, crowded=w, distant=d\n",
    "\n",
    "   **gill-size** : broad=b, narrow=n\n",
    "\n",
    "   **gill-color** : black=k, brown=n, buff=b, chocolate=h, gray=g, green=r, orange=o, pink=p, purple=u, red=e, white=w, yellow=y\n",
    "\n",
    "# 5. STALK\n",
    "\n",
    "   **stalk-shape** : enlarging=e, tapering=t\n",
    "\n",
    "   **stalk-root** : bulbous=b, club=c, cup=u, equal=e, rhizomorphs=z, rooted=r, missing=?\n",
    "   \n",
    "   **stalk-surface-above-ring** : fibrous=f, scaly=y, silky=k, smooth=s\n",
    "\n",
    "   **stalk-surface-below-ring** : fibrous=f, scaly=y, silky=k, smooth=s\n",
    "\n",
    "   **stalk-color-above-ring** : brown=n, buff=b, cinnamon=c, gray=g, orange=o, pink=p, red=e, white=w, yellow=y\n",
    "   \n",
    "   **stalk-color-below-ring** : brown=n, buff=b, cinnamon=c, gray=g, orange=o, pink=p, red=e, white=w, yellow=y\n",
    "\n",
    "# 6. Veil\n",
    "\n",
    "   **veil-type** : partial=p, universal=u\n",
    "\n",
    "   **veil-color** : brown=n, orange=o, white=w, yellow=y\n",
    "\n",
    "\n",
    "# 7. Ring\n",
    "\n",
    "   **ring-number** : none=n, one=o, two=t\n",
    "    \n",
    "   **ring-type** : cobwebby=c, evanescent=e, flaring=f, large=l, none=n, pendant=p, sheathing=s, zone=z\n",
    "\n",
    "# 8. SPORE\n",
    "\n",
    "   **spore-print-color** : black=k, brown=n, buff=b, chocolate=h, green=r, orange=o, purple=u, white=w, yellow=y\n",
    "\n",
    "# 9. POPULATION\n",
    "\n",
    "   **population** : abundant=a, clustered=c, numerous=n, scattered=s, several=v, solitary=y\n",
    "\n",
    "# 10. HABITAT\n",
    "\n",
    "   **habitat** : grasses=g, leaves=l, meadows=m, paths=p, urban=u, waste=w, woods=d"
   ]
  },
  {
   "cell_type": "markdown",
   "id": "8d4fa38a",
   "metadata": {},
   "source": [
    "# EDA"
   ]
  },
  {
   "cell_type": "code",
   "execution_count": 7,
   "id": "0c1038b2",
   "metadata": {
    "scrolled": true
   },
   "outputs": [
    {
     "data": {
      "text/plain": [
       "class                       0\n",
       "cap-shape                   0\n",
       "cap-surface                 0\n",
       "cap-color                   0\n",
       "bruises                     0\n",
       "odor                        0\n",
       "gill-attachment             0\n",
       "gill-spacing                0\n",
       "gill-size                   0\n",
       "gill-color                  0\n",
       "stalk-shape                 0\n",
       "stalk-root                  0\n",
       "stalk-surface-above-ring    0\n",
       "stalk-surface-below-ring    0\n",
       "stalk-color-above-ring      0\n",
       "stalk-color-below-ring      0\n",
       "veil-type                   0\n",
       "veil-color                  0\n",
       "ring-number                 0\n",
       "ring-type                   0\n",
       "spore-print-color           0\n",
       "population                  0\n",
       "habitat                     0\n",
       "dtype: int64"
      ]
     },
     "execution_count": 7,
     "metadata": {},
     "output_type": "execute_result"
    }
   ],
   "source": [
    "data.isnull().sum()"
   ]
  },
  {
   "cell_type": "code",
   "execution_count": 8,
   "id": "cff06c47",
   "metadata": {},
   "outputs": [
    {
     "name": "stdout",
     "output_type": "stream",
     "text": [
      "<class 'pandas.core.frame.DataFrame'>\n",
      "RangeIndex: 8124 entries, 0 to 8123\n",
      "Data columns (total 23 columns):\n",
      " #   Column                    Non-Null Count  Dtype \n",
      "---  ------                    --------------  ----- \n",
      " 0   class                     8124 non-null   object\n",
      " 1   cap-shape                 8124 non-null   object\n",
      " 2   cap-surface               8124 non-null   object\n",
      " 3   cap-color                 8124 non-null   object\n",
      " 4   bruises                   8124 non-null   object\n",
      " 5   odor                      8124 non-null   object\n",
      " 6   gill-attachment           8124 non-null   object\n",
      " 7   gill-spacing              8124 non-null   object\n",
      " 8   gill-size                 8124 non-null   object\n",
      " 9   gill-color                8124 non-null   object\n",
      " 10  stalk-shape               8124 non-null   object\n",
      " 11  stalk-root                8124 non-null   object\n",
      " 12  stalk-surface-above-ring  8124 non-null   object\n",
      " 13  stalk-surface-below-ring  8124 non-null   object\n",
      " 14  stalk-color-above-ring    8124 non-null   object\n",
      " 15  stalk-color-below-ring    8124 non-null   object\n",
      " 16  veil-type                 8124 non-null   object\n",
      " 17  veil-color                8124 non-null   object\n",
      " 18  ring-number               8124 non-null   object\n",
      " 19  ring-type                 8124 non-null   object\n",
      " 20  spore-print-color         8124 non-null   object\n",
      " 21  population                8124 non-null   object\n",
      " 22  habitat                   8124 non-null   object\n",
      "dtypes: object(23)\n",
      "memory usage: 1.4+ MB\n"
     ]
    }
   ],
   "source": [
    "data.info()"
   ]
  },
  {
   "cell_type": "markdown",
   "id": "14ad1060",
   "metadata": {},
   "source": [
    "# Data Analysis"
   ]
  },
  {
   "cell_type": "code",
   "execution_count": 9,
   "id": "4aed7dc9",
   "metadata": {},
   "outputs": [
    {
     "data": {
      "text/plain": [
       "e    4208\n",
       "p    3916\n",
       "Name: class, dtype: int64"
      ]
     },
     "execution_count": 9,
     "metadata": {},
     "output_type": "execute_result"
    }
   ],
   "source": [
    "data['class'].value_counts()"
   ]
  },
  {
   "cell_type": "code",
   "execution_count": 10,
   "id": "49cb832e",
   "metadata": {},
   "outputs": [
    {
     "data": {
      "image/png": "[encoded data removed]",
      "text/plain": [
       "<Figure size 432x288 with 1 Axes>"
      ]
     },
     "metadata": {},
     "output_type": "display_data"
    }
   ],
   "source": [
    "#1 is p and 0 is E\n",
    "plt.pie(data['class'].value_counts(), labels=['poisonous','edible'],autopct=\"%0.2f\")\n",
    "plt.show()"
   ]
  },
  {
   "cell_type": "markdown",
   "id": "499f4ef6",
   "metadata": {},
   "source": [
    "**if mushroom has odor almond, anise and none then you can eat**"
   ]
  },
  {
   "cell_type": "code",
   "execution_count": 11,
   "id": "976fff80",
   "metadata": {},
   "outputs": [],
   "source": [
    "def CPlot(CN):\n",
    "    sns.histplot(data=data, x=CN, hue=\"class\", multiple=\"dodge\")\n",
    "    plt.xlabel(CN,fontsize=15)\n",
    "    plt.ylabel('mushroom poisonous',fontsize=15)\n",
    "    plt.show()"
   ]
  },
  {
   "cell_type": "markdown",
   "id": "f6646434",
   "metadata": {},
   "source": [
    "# bruises"
   ]
  },
  {
   "cell_type": "code",
   "execution_count": 12,
   "id": "8f2c8797",
   "metadata": {},
   "outputs": [
    {
     "data": {
      "image/png": "[encoded data removed]",
      "text/plain": [
       "<Figure size 432x288 with 1 Axes>"
      ]
     },
     "metadata": {
      "needs_background": "light"
     },
     "output_type": "display_data"
    }
   ],
   "source": [
    "CPlot(data.columns[4])"
   ]
  },
  {
   "cell_type": "markdown",
   "id": "7b7d5602",
   "metadata": {},
   "source": [
    "# Cap Shape"
   ]
  },
  {
   "cell_type": "code",
   "execution_count": 13,
   "id": "714ac875",
   "metadata": {},
   "outputs": [
    {
     "data": {
      "image/png": "[encoded data removed]",
      "text/plain": [
       "<Figure size 432x288 with 1 Axes>"
      ]
     },
     "metadata": {
      "needs_background": "light"
     },
     "output_type": "display_data"
    }
   ],
   "source": [
    "CPlot(data.columns[1])"
   ]
  },
  {
   "cell_type": "markdown",
   "id": "e363e261",
   "metadata": {},
   "source": [
    "# cap-surface"
   ]
  },
  {
   "cell_type": "code",
   "execution_count": 14,
   "id": "50732620",
   "metadata": {},
   "outputs": [
    {
     "data": {
      "image/png": "[encoded data removed]",
      "text/plain": [
       "<Figure size 432x288 with 1 Axes>"
      ]
     },
     "metadata": {
      "needs_background": "light"
     },
     "output_type": "display_data"
    }
   ],
   "source": [
    "CPlot(data.columns[2])"
   ]
  },
  {
   "cell_type": "markdown",
   "id": "5782857f",
   "metadata": {},
   "source": [
    "# cap-color"
   ]
  },
  {
   "cell_type": "code",
   "execution_count": 15,
   "id": "dd09f247",
   "metadata": {},
   "outputs": [
    {
     "data": {
      "image/png": "[encoded data removed]",
      "text/plain": [
       "<Figure size 432x288 with 1 Axes>"
      ]
     },
     "metadata": {
      "needs_background": "light"
     },
     "output_type": "display_data"
    }
   ],
   "source": [
    "CPlot(data.columns[3])"
   ]
  },
  {
   "cell_type": "markdown",
   "id": "27cdb06e",
   "metadata": {},
   "source": [
    "# Odor"
   ]
  },
  {
   "cell_type": "code",
   "execution_count": 16,
   "id": "1684f892",
   "metadata": {},
   "outputs": [
    {
     "data": {
      "image/png": "[encoded data removed]",
      "text/plain": [
       "<Figure size 432x288 with 1 Axes>"
      ]
     },
     "metadata": {
      "needs_background": "light"
     },
     "output_type": "display_data"
    }
   ],
   "source": [
    "CPlot(data.columns[5])"
   ]
  },
  {
   "cell_type": "markdown",
   "id": "097cb2d2",
   "metadata": {},
   "source": [
    "# gill-attachment"
   ]
  },
  {
   "cell_type": "code",
   "execution_count": 17,
   "id": "4dfb7d01",
   "metadata": {},
   "outputs": [
    {
     "data": {
      "image/png": "[encoded data removed]",
      "text/plain": [
       "<Figure size 432x288 with 1 Axes>"
      ]
     },
     "metadata": {
      "needs_background": "light"
     },
     "output_type": "display_data"
    }
   ],
   "source": [
    "CPlot(data.columns[6])"
   ]
  },
  {
   "cell_type": "markdown",
   "id": "bda3d062",
   "metadata": {},
   "source": [
    "# gill-spacing"
   ]
  },
  {
   "cell_type": "code",
   "execution_count": 18,
   "id": "23e088cf",
   "metadata": {},
   "outputs": [
    {
     "data": {
      "image/png": "[encoded data removed]",
      "text/plain": [
       "<Figure size 432x288 with 1 Axes>"
      ]
     },
     "metadata": {
      "needs_background": "light"
     },
     "output_type": "display_data"
    }
   ],
   "source": [
    "CPlot(data.columns[7])"
   ]
  },
  {
   "cell_type": "markdown",
   "id": "e7665b52",
   "metadata": {},
   "source": [
    "# gill-size"
   ]
  },
  {
   "cell_type": "code",
   "execution_count": 19,
   "id": "238b2a2c",
   "metadata": {},
   "outputs": [
    {
     "data": {
      "image/png": "[encoded data removed]",
      "text/plain": [
       "<Figure size 432x288 with 1 Axes>"
      ]
     },
     "metadata": {
      "needs_background": "light"
     },
     "output_type": "display_data"
    }
   ],
   "source": [
    "CPlot(data.columns[8])"
   ]
  },
  {
   "cell_type": "markdown",
   "id": "e5f5fd7b",
   "metadata": {},
   "source": [
    "# gill-color"
   ]
  },
  {
   "cell_type": "code",
   "execution_count": 20,
   "id": "d923eed9",
   "metadata": {},
   "outputs": [
    {
     "data": {
      "image/png": "[encoded data removed]",
      "text/plain": [
       "<Figure size 432x288 with 1 Axes>"
      ]
     },
     "metadata": {
      "needs_background": "light"
     },
     "output_type": "display_data"
    }
   ],
   "source": [
    "CPlot(data.columns[9])"
   ]
  },
  {
   "cell_type": "markdown",
   "id": "04f3c616",
   "metadata": {},
   "source": [
    "# Habitat"
   ]
  },
  {
   "cell_type": "code",
   "execution_count": 21,
   "id": "127359bb",
   "metadata": {},
   "outputs": [
    {
     "data": {
      "image/png": "[encoded data removed]",
      "text/plain": [
       "<Figure size 432x288 with 1 Axes>"
      ]
     },
     "metadata": {
      "needs_background": "light"
     },
     "output_type": "display_data"
    }
   ],
   "source": [
    "CPlot(data.columns[22])"
   ]
  },
  {
   "cell_type": "markdown",
   "id": "ef497278",
   "metadata": {},
   "source": [
    "# Stalk shape"
   ]
  },
  {
   "cell_type": "code",
   "execution_count": 22,
   "id": "884c5489",
   "metadata": {},
   "outputs": [
    {
     "data": {
      "image/png": "[encoded data removed]",
      "text/plain": [
       "<Figure size 432x288 with 1 Axes>"
      ]
     },
     "metadata": {
      "needs_background": "light"
     },
     "output_type": "display_data"
    }
   ],
   "source": [
    "CPlot(data.columns[10])"
   ]
  },
  {
   "cell_type": "markdown",
   "id": "764f1769",
   "metadata": {},
   "source": [
    "# Stalk-Root"
   ]
  },
  {
   "cell_type": "code",
   "execution_count": 23,
   "id": "306ac56c",
   "metadata": {},
   "outputs": [
    {
     "data": {
      "image/png": "[encoded data removed]",
      "text/plain": [
       "<Figure size 432x288 with 1 Axes>"
      ]
     },
     "metadata": {
      "needs_background": "light"
     },
     "output_type": "display_data"
    }
   ],
   "source": [
    "CPlot(data.columns[11])"
   ]
  },
  {
   "cell_type": "markdown",
   "id": "0ff2ca5f",
   "metadata": {},
   "source": [
    "# Stalk-Surface-Above-ring"
   ]
  },
  {
   "cell_type": "code",
   "execution_count": 24,
   "id": "c51073f2",
   "metadata": {},
   "outputs": [
    {
     "data": {
      "image/png": "[encoded data removed]",
      "text/plain": [
       "<Figure size 432x288 with 1 Axes>"
      ]
     },
     "metadata": {
      "needs_background": "light"
     },
     "output_type": "display_data"
    }
   ],
   "source": [
    "CPlot(data.columns[12])"
   ]
  },
  {
   "cell_type": "markdown",
   "id": "17ace1bf",
   "metadata": {},
   "source": [
    "# Stalk-Surface-below-ring"
   ]
  },
  {
   "cell_type": "code",
   "execution_count": 25,
   "id": "4088070f",
   "metadata": {},
   "outputs": [
    {
     "data": {
      "image/png": "[encoded data removed]",
      "text/plain": [
       "<Figure size 432x288 with 1 Axes>"
      ]
     },
     "metadata": {
      "needs_background": "light"
     },
     "output_type": "display_data"
    }
   ],
   "source": [
    "CPlot(data.columns[13])"
   ]
  },
  {
   "cell_type": "markdown",
   "id": "c33d249e",
   "metadata": {},
   "source": [
    "# Stalk-color-above-ring"
   ]
  },
  {
   "cell_type": "code",
   "execution_count": 26,
   "id": "56329918",
   "metadata": {},
   "outputs": [
    {
     "data": {
      "image/png": "[encoded data removed]",
      "text/plain": [
       "<Figure size 432x288 with 1 Axes>"
      ]
     },
     "metadata": {
      "needs_background": "light"
     },
     "output_type": "display_data"
    }
   ],
   "source": [
    "CPlot(data.columns[14])"
   ]
  },
  {
   "cell_type": "markdown",
   "id": "b6b5dd1b",
   "metadata": {},
   "source": [
    "# Stalk-color-below-ring"
   ]
  },
  {
   "cell_type": "code",
   "execution_count": 27,
   "id": "cc0dfbfa",
   "metadata": {},
   "outputs": [
    {
     "data": {
      "image/png": "[encoded data removed]",
      "text/plain": [
       "<Figure size 432x288 with 1 Axes>"
      ]
     },
     "metadata": {
      "needs_background": "light"
     },
     "output_type": "display_data"
    }
   ],
   "source": [
    "CPlot(data.columns[15])"
   ]
  },
  {
   "cell_type": "markdown",
   "id": "8dc24a6f",
   "metadata": {},
   "source": [
    "# Veil type"
   ]
  },
  {
   "cell_type": "code",
   "execution_count": 28,
   "id": "71cc5333",
   "metadata": {},
   "outputs": [
    {
     "data": {
      "image/png": "[encoded data removed]",
      "text/plain": [
       "<Figure size 432x288 with 1 Axes>"
      ]
     },
     "metadata": {
      "needs_background": "light"
     },
     "output_type": "display_data"
    }
   ],
   "source": [
    "CPlot(data.columns[16])"
   ]
  },
  {
   "cell_type": "markdown",
   "id": "41b9b99d",
   "metadata": {},
   "source": [
    "# Veil-color"
   ]
  },
  {
   "cell_type": "code",
   "execution_count": 29,
   "id": "1bcf625f",
   "metadata": {},
   "outputs": [
    {
     "data": {
      "image/png": "[encoded data removed]",
      "text/plain": [
       "<Figure size 432x288 with 1 Axes>"
      ]
     },
     "metadata": {
      "needs_background": "light"
     },
     "output_type": "display_data"
    }
   ],
   "source": [
    "CPlot(data.columns[17])"
   ]
  },
  {
   "cell_type": "markdown",
   "id": "2023f78c",
   "metadata": {},
   "source": [
    "# Ring Number"
   ]
  },
  {
   "cell_type": "code",
   "execution_count": 30,
   "id": "0b0ff9ec",
   "metadata": {},
   "outputs": [
    {
     "data": {
      "image/png": "[encoded data removed]",
      "text/plain": [
       "<Figure size 432x288 with 1 Axes>"
      ]
     },
     "metadata": {
      "needs_background": "light"
     },
     "output_type": "display_data"
    }
   ],
   "source": [
    "CPlot(data.columns[18])"
   ]
  },
  {
   "cell_type": "markdown",
   "id": "dc15445b",
   "metadata": {},
   "source": [
    "# Ring type"
   ]
  },
  {
   "cell_type": "code",
   "execution_count": 31,
   "id": "781acd36",
   "metadata": {},
   "outputs": [
    {
     "data": {
      "image/png": "[encoded data removed]",
      "text/plain": [
       "<Figure size 432x288 with 1 Axes>"
      ]
     },
     "metadata": {
      "needs_background": "light"
     },
     "output_type": "display_data"
    }
   ],
   "source": [
    "CPlot(data.columns[19])"
   ]
  },
  {
   "cell_type": "markdown",
   "id": "40dcffe2",
   "metadata": {},
   "source": [
    "# Spore-print-color"
   ]
  },
  {
   "cell_type": "code",
   "execution_count": 32,
   "id": "4ba6234e",
   "metadata": {},
   "outputs": [
    {
     "data": {
      "image/png": "[encoded data removed]",
      "text/plain": [
       "<Figure size 432x288 with 1 Axes>"
      ]
     },
     "metadata": {
      "needs_background": "light"
     },
     "output_type": "display_data"
    }
   ],
   "source": [
    "CPlot(data.columns[20])"
   ]
  },
  {
   "cell_type": "markdown",
   "id": "f3a459a2",
   "metadata": {},
   "source": [
    "# Population"
   ]
  },
  {
   "cell_type": "code",
   "execution_count": 33,
   "id": "6d71910d",
   "metadata": {},
   "outputs": [
    {
     "data": {
      "image/png": "[encoded data removed]",
      "text/plain": [
       "<Figure size 432x288 with 1 Axes>"
      ]
     },
     "metadata": {
      "needs_background": "light"
     },
     "output_type": "display_data"
    }
   ],
   "source": [
    "CPlot(data.columns[21])"
   ]
  },
  {
   "cell_type": "markdown",
   "id": "de0fb8e0",
   "metadata": {},
   "source": [
    "# Label Encoding"
   ]
  },
  {
   "cell_type": "code",
   "execution_count": 34,
   "id": "9afed78e",
   "metadata": {},
   "outputs": [],
   "source": [
    "Le=LabelEncoder()\n",
    "data['class']=Le.fit_transform(data['class'])"
   ]
  },
  {
   "cell_type": "markdown",
   "id": "c6d2d611",
   "metadata": {},
   "source": [
    "# Data Selection"
   ]
  },
  {
   "cell_type": "code",
   "execution_count": 35,
   "id": "ed0fb9d2",
   "metadata": {},
   "outputs": [],
   "source": [
    "colX=['cap-color',  'bruises', 'odor', \n",
    "          'gill-color', 'stalk-shape', 'veil-color',\n",
    "          'ring-type', 'spore-print-color', 'population', 'habitat'\n",
    "        ]"
   ]
  },
  {
   "cell_type": "code",
   "execution_count": 36,
   "id": "dc08ed61",
   "metadata": {},
   "outputs": [],
   "source": [
    "X=data.loc[:,colX]\n",
    "Y=data.iloc[:,0]"
   ]
  },
  {
   "cell_type": "code",
   "execution_count": 37,
   "id": "c8d0eb6a",
   "metadata": {},
   "outputs": [
    {
     "data": {
      "text/plain": [
       "(8124, 10)"
      ]
     },
     "execution_count": 37,
     "metadata": {},
     "output_type": "execute_result"
    }
   ],
   "source": [
    "X.shape"
   ]
  },
  {
   "cell_type": "code",
   "execution_count": 38,
   "id": "7cf6899f",
   "metadata": {},
   "outputs": [
    {
     "data": {
      "text/html": [
       "<div>\n",
       "<style scoped>\n",
       "    .dataframe tbody tr th:only-of-type {\n",
       "        vertical-align: middle;\n",
       "    }\n",
       "\n",
       "    .dataframe tbody tr th {\n",
       "        vertical-align: top;\n",
       "    }\n",
       "\n",
       "    .dataframe thead th {\n",
       "        text-align: right;\n",
       "    }\n",
       "</style>\n",
       "<table border=\"1\" class=\"dataframe\">\n",
       "  <thead>\n",
       "    <tr style=\"text-align: right;\">\n",
       "      <th></th>\n",
       "      <th>cap-color</th>\n",
       "      <th>bruises</th>\n",
       "      <th>odor</th>\n",
       "      <th>gill-color</th>\n",
       "      <th>stalk-shape</th>\n",
       "      <th>veil-color</th>\n",
       "      <th>ring-type</th>\n",
       "      <th>spore-print-color</th>\n",
       "      <th>population</th>\n",
       "      <th>habitat</th>\n",
       "    </tr>\n",
       "  </thead>\n",
       "  <tbody>\n",
       "    <tr>\n",
       "      <th>0</th>\n",
       "      <td>n</td>\n",
       "      <td>f</td>\n",
       "      <td>n</td>\n",
       "      <td>w</td>\n",
       "      <td>e</td>\n",
       "      <td>w</td>\n",
       "      <td>e</td>\n",
       "      <td>w</td>\n",
       "      <td>v</td>\n",
       "      <td>d</td>\n",
       "    </tr>\n",
       "    <tr>\n",
       "      <th>1</th>\n",
       "      <td>n</td>\n",
       "      <td>f</td>\n",
       "      <td>n</td>\n",
       "      <td>w</td>\n",
       "      <td>e</td>\n",
       "      <td>w</td>\n",
       "      <td>e</td>\n",
       "      <td>w</td>\n",
       "      <td>v</td>\n",
       "      <td>d</td>\n",
       "    </tr>\n",
       "    <tr>\n",
       "      <th>2</th>\n",
       "      <td>y</td>\n",
       "      <td>f</td>\n",
       "      <td>n</td>\n",
       "      <td>w</td>\n",
       "      <td>e</td>\n",
       "      <td>w</td>\n",
       "      <td>e</td>\n",
       "      <td>w</td>\n",
       "      <td>v</td>\n",
       "      <td>d</td>\n",
       "    </tr>\n",
       "    <tr>\n",
       "      <th>3</th>\n",
       "      <td>y</td>\n",
       "      <td>f</td>\n",
       "      <td>n</td>\n",
       "      <td>w</td>\n",
       "      <td>e</td>\n",
       "      <td>w</td>\n",
       "      <td>e</td>\n",
       "      <td>w</td>\n",
       "      <td>v</td>\n",
       "      <td>d</td>\n",
       "    </tr>\n",
       "    <tr>\n",
       "      <th>4</th>\n",
       "      <td>w</td>\n",
       "      <td>t</td>\n",
       "      <td>n</td>\n",
       "      <td>w</td>\n",
       "      <td>e</td>\n",
       "      <td>w</td>\n",
       "      <td>p</td>\n",
       "      <td>w</td>\n",
       "      <td>c</td>\n",
       "      <td>l</td>\n",
       "    </tr>\n",
       "  </tbody>\n",
       "</table>\n",
       "</div>"
      ],
      "text/plain": [
       "  cap-color bruises odor gill-color stalk-shape veil-color ring-type  \\\n",
       "0         n       f    n          w           e          w         e   \n",
       "1         n       f    n          w           e          w         e   \n",
       "2         y       f    n          w           e          w         e   \n",
       "3         y       f    n          w           e          w         e   \n",
       "4         w       t    n          w           e          w         p   \n",
       "\n",
       "  spore-print-color population habitat  \n",
       "0                 w          v       d  \n",
       "1                 w          v       d  \n",
       "2                 w          v       d  \n",
       "3                 w          v       d  \n",
       "4                 w          c       l  "
      ]
     },
     "execution_count": 38,
     "metadata": {},
     "output_type": "execute_result"
    }
   ],
   "source": [
    "X.head()"
   ]
  },
  {
   "cell_type": "code",
   "execution_count": 39,
   "id": "92ef23ff",
   "metadata": {},
   "outputs": [
    {
     "data": {
      "text/plain": [
       "(8124,)"
      ]
     },
     "execution_count": 39,
     "metadata": {},
     "output_type": "execute_result"
    }
   ],
   "source": [
    "Y.shape"
   ]
  },
  {
   "cell_type": "markdown",
   "id": "01645558",
   "metadata": {},
   "source": [
    "# Split"
   ]
  },
  {
   "cell_type": "code",
   "execution_count": 40,
   "id": "0714d156",
   "metadata": {},
   "outputs": [],
   "source": [
    "from sklearn.model_selection import train_test_split\n",
    "X_train,X_test,y_train,y_test = train_test_split(X,Y,test_size=0.2)"
   ]
  },
  {
   "cell_type": "markdown",
   "id": "b249a7d7",
   "metadata": {},
   "source": [
    "# Using Col Transformers"
   ]
  },
  {
   "cell_type": "markdown",
   "id": "bd3da160",
   "metadata": {},
   "source": [
    "### Step 1: Ordinal encoding"
   ]
  },
  {
   "cell_type": "code",
   "execution_count": 41,
   "id": "ab98732c",
   "metadata": {},
   "outputs": [],
   "source": [
    "trf1 = ColumnTransformer([\n",
    "         (\"ordinal\", OrdinalEncoder(), \n",
    "         ['cap-color','bruises','odor',\n",
    "          'gill-color', 'stalk-shape', 'veil-color',\n",
    "          'ring-type','spore-print-color', 'population', 'habitat'\n",
    "        ] )\n",
    "    ],remainder='passthrough')"
   ]
  },
  {
   "cell_type": "markdown",
   "id": "c9409839",
   "metadata": {},
   "source": [
    "### Step 2 : Feature selection Using SelectKBest"
   ]
  },
  {
   "cell_type": "code",
   "execution_count": 42,
   "id": "99c86f79",
   "metadata": {},
   "outputs": [],
   "source": [
    "trf2 = SelectKBest(score_func=chi2,k=8)"
   ]
  },
  {
   "cell_type": "markdown",
   "id": "eaa7f8c3",
   "metadata": {},
   "source": [
    "### Step 3: Model Training"
   ]
  },
  {
   "cell_type": "code",
   "execution_count": 43,
   "id": "9d44b53a",
   "metadata": {},
   "outputs": [],
   "source": [
    "trf3 = RandomForestClassifier()\n",
    "#trf3 = GaussianNB()\n",
    "#trf3 = MultinomialNB()\n",
    "#trf3 = BernoulliNB()\n",
    "#trf3=LogisticRegression()\n",
    "#trf3=SVC()"
   ]
  },
  {
   "cell_type": "code",
   "execution_count": 44,
   "id": "9d18b0bc",
   "metadata": {},
   "outputs": [],
   "source": [
    "# Display Pipeline\n",
    "from sklearn import set_config\n",
    "set_config(display='diagram')"
   ]
  },
  {
   "cell_type": "markdown",
   "id": "48fd4b41",
   "metadata": {},
   "source": [
    "# Creating Pipe"
   ]
  },
  {
   "cell_type": "code",
   "execution_count": 45,
   "id": "16144a59",
   "metadata": {},
   "outputs": [],
   "source": [
    "pipe = Pipeline([\n",
    "    ('trf1',trf1),\n",
    "    ('trf2',trf2),\n",
    "    ('trf3',trf3),\n",
    "])"
   ]
  },
  {
   "cell_type": "code",
   "execution_count": 46,
   "id": "605e9092",
   "metadata": {},
   "outputs": [
    {
     "data": {
      "text/html": [
       "<style>#sk-0ff749fb-ecdf-4e35-bdb2-5126ef784dc7 {color: black;background-color: white;}#sk-0ff749fb-ecdf-4e35-bdb2-5126ef784dc7 pre{padding: 0;}#sk-0ff749fb-ecdf-4e35-bdb2-5126ef784dc7 div.sk-toggleable {background-color: white;}#sk-0ff749fb-ecdf-4e35-bdb2-5126ef784dc7 label.sk-toggleable__label {cursor: pointer;display: block;width: 100%;margin-bottom: 0;padding: 0.2em 0.3em;box-sizing: border-box;text-align: center;}#sk-0ff749fb-ecdf-4e35-bdb2-5126ef784dc7 div.sk-toggleable__content {max-height: 0;max-width: 0;overflow: hidden;text-align: left;background-color: #f0f8ff;}#sk-0ff749fb-ecdf-4e35-bdb2-5126ef784dc7 div.sk-toggleable__content pre {margin: 0.2em;color: black;border-radius: 0.25em;background-color: #f0f8ff;}#sk-0ff749fb-ecdf-4e35-bdb2-5126ef784dc7 input.sk-toggleable__control:checked~div.sk-toggleable__content {max-height: 200px;max-width: 100%;overflow: auto;}#sk-0ff749fb-ecdf-4e35-bdb2-5126ef784dc7 div.sk-estimator input.sk-toggleable__control:checked~label.sk-toggleable__label {background-color: #d4ebff;}#sk-0ff749fb-ecdf-4e35-bdb2-5126ef784dc7 div.sk-label input.sk-toggleable__control:checked~label.sk-toggleable__label {background-color: #d4ebff;}#sk-0ff749fb-ecdf-4e35-bdb2-5126ef784dc7 input.sk-hidden--visually {border: 0;clip: rect(1px 1px 1px 1px);clip: rect(1px, 1px, 1px, 1px);height: 1px;margin: -1px;overflow: hidden;padding: 0;position: absolute;width: 1px;}#sk-0ff749fb-ecdf-4e35-bdb2-5126ef784dc7 div.sk-estimator {font-family: monospace;background-color: #f0f8ff;margin: 0.25em 0.25em;border: 1px dotted black;border-radius: 0.25em;box-sizing: border-box;}#sk-0ff749fb-ecdf-4e35-bdb2-5126ef784dc7 div.sk-estimator:hover {background-color: #d4ebff;}#sk-0ff749fb-ecdf-4e35-bdb2-5126ef784dc7 div.sk-parallel-item::after {content: \"\";width: 100%;border-bottom: 1px solid gray;flex-grow: 1;}#sk-0ff749fb-ecdf-4e35-bdb2-5126ef784dc7 div.sk-label:hover label.sk-toggleable__label {background-color: #d4ebff;}#sk-0ff749fb-ecdf-4e35-bdb2-5126ef784dc7 div.sk-serial::before {content: \"\";position: absolute;border-left: 1px solid gray;box-sizing: border-box;top: 2em;bottom: 0;left: 50%;}#sk-0ff749fb-ecdf-4e35-bdb2-5126ef784dc7 div.sk-serial {display: flex;flex-direction: column;align-items: center;background-color: white;}#sk-0ff749fb-ecdf-4e35-bdb2-5126ef784dc7 div.sk-item {z-index: 1;}#sk-0ff749fb-ecdf-4e35-bdb2-5126ef784dc7 div.sk-parallel {display: flex;align-items: stretch;justify-content: center;background-color: white;}#sk-0ff749fb-ecdf-4e35-bdb2-5126ef784dc7 div.sk-parallel-item {display: flex;flex-direction: column;position: relative;background-color: white;}#sk-0ff749fb-ecdf-4e35-bdb2-5126ef784dc7 div.sk-parallel-item:first-child::after {align-self: flex-end;width: 50%;}#sk-0ff749fb-ecdf-4e35-bdb2-5126ef784dc7 div.sk-parallel-item:last-child::after {align-self: flex-start;width: 50%;}#sk-0ff749fb-ecdf-4e35-bdb2-5126ef784dc7 div.sk-parallel-item:only-child::after {width: 0;}#sk-0ff749fb-ecdf-4e35-bdb2-5126ef784dc7 div.sk-dashed-wrapped {border: 1px dashed gray;margin: 0.2em;box-sizing: border-box;padding-bottom: 0.1em;background-color: white;position: relative;}#sk-0ff749fb-ecdf-4e35-bdb2-5126ef784dc7 div.sk-label label {font-family: monospace;font-weight: bold;background-color: white;display: inline-block;line-height: 1.2em;}#sk-0ff749fb-ecdf-4e35-bdb2-5126ef784dc7 div.sk-label-container {position: relative;z-index: 2;text-align: center;}#sk-0ff749fb-ecdf-4e35-bdb2-5126ef784dc7 div.sk-container {display: inline-block;position: relative;}</style><div id=\"sk-0ff749fb-ecdf-4e35-bdb2-5126ef784dc7\" class\"sk-top-container\"><div class=\"sk-container\"><div class=\"sk-item sk-dashed-wrapped\"><div class=\"sk-label-container\"><div class=\"sk-label sk-toggleable\"><input class=\"sk-toggleable__control sk-hidden--visually\" id=\"5279c398-b4dc-495b-b7cb-5771bfd05f2b\" type=\"checkbox\" ><label class=\"sk-toggleable__label\" for=\"5279c398-b4dc-495b-b7cb-5771bfd05f2b\">Pipeline</label><div class=\"sk-toggleable__content\"><pre>Pipeline(steps=[('trf1',\n",
       "                 ColumnTransformer(remainder='passthrough',\n",
       "                                   transformers=[('ordinal', OrdinalEncoder(),\n",
       "                                                  ['cap-color', 'bruises',\n",
       "                                                   'odor', 'gill-color',\n",
       "                                                   'stalk-shape', 'veil-color',\n",
       "                                                   'ring-type',\n",
       "                                                   'spore-print-color',\n",
       "                                                   'population',\n",
       "                                                   'habitat'])])),\n",
       "                ('trf2',\n",
       "                 SelectKBest(k=8,\n",
       "                             score_func=<function chi2 at 0x000001F09098AC10>)),\n",
       "                ('trf3', RandomForestClassifier())])</pre></div></div></div><div class=\"sk-serial\"><div class=\"sk-item sk-dashed-wrapped\"><div class=\"sk-label-container\"><div class=\"sk-label sk-toggleable\"><input class=\"sk-toggleable__control sk-hidden--visually\" id=\"347bc4f2-4c88-4609-b002-6ecf4129ac88\" type=\"checkbox\" ><label class=\"sk-toggleable__label\" for=\"347bc4f2-4c88-4609-b002-6ecf4129ac88\">trf1: ColumnTransformer</label><div class=\"sk-toggleable__content\"><pre>ColumnTransformer(remainder='passthrough',\n",
       "                  transformers=[('ordinal', OrdinalEncoder(),\n",
       "                                 ['cap-color', 'bruises', 'odor', 'gill-color',\n",
       "                                  'stalk-shape', 'veil-color', 'ring-type',\n",
       "                                  'spore-print-color', 'population',\n",
       "                                  'habitat'])])</pre></div></div></div><div class=\"sk-parallel\"><div class=\"sk-parallel-item\"><div class=\"sk-item\"><div class=\"sk-label-container\"><div class=\"sk-label sk-toggleable\"><input class=\"sk-toggleable__control sk-hidden--visually\" id=\"2d7e8e3a-f17a-4081-9543-75971207f896\" type=\"checkbox\" ><label class=\"sk-toggleable__label\" for=\"2d7e8e3a-f17a-4081-9543-75971207f896\">ordinal</label><div class=\"sk-toggleable__content\"><pre>['cap-color', 'bruises', 'odor', 'gill-color', 'stalk-shape', 'veil-color', 'ring-type', 'spore-print-color', 'population', 'habitat']</pre></div></div></div><div class=\"sk-serial\"><div class=\"sk-item\"><div class=\"sk-estimator sk-toggleable\"><input class=\"sk-toggleable__control sk-hidden--visually\" id=\"39346cdb-10ee-46b6-a312-2db038a7dc9b\" type=\"checkbox\" ><label class=\"sk-toggleable__label\" for=\"39346cdb-10ee-46b6-a312-2db038a7dc9b\">OrdinalEncoder</label><div class=\"sk-toggleable__content\"><pre>OrdinalEncoder()</pre></div></div></div></div></div></div><div class=\"sk-parallel-item\"><div class=\"sk-item\"><div class=\"sk-label-container\"><div class=\"sk-label sk-toggleable\"><input class=\"sk-toggleable__control sk-hidden--visually\" id=\"b2834f09-4c6b-4c49-a8bd-e495c98f7353\" type=\"checkbox\" ><label class=\"sk-toggleable__label\" for=\"b2834f09-4c6b-4c49-a8bd-e495c98f7353\">remainder</label><div class=\"sk-toggleable__content\"><pre>[['cap-color', 'bruises', 'odor', 'gill-color', 'stalk-shape', 'veil-color', 'ring-type', 'spore-print-color', 'population', 'habitat']]</pre></div></div></div><div class=\"sk-serial\"><div class=\"sk-item\"><div class=\"sk-estimator sk-toggleable\"><input class=\"sk-toggleable__control sk-hidden--visually\" id=\"7e322a08-18d4-479d-b9d2-76e2144bdc54\" type=\"checkbox\" ><label class=\"sk-toggleable__label\" for=\"7e322a08-18d4-479d-b9d2-76e2144bdc54\">passthrough</label><div class=\"sk-toggleable__content\"><pre>passthrough</pre></div></div></div></div></div></div></div></div><div class=\"sk-item\"><div class=\"sk-estimator sk-toggleable\"><input class=\"sk-toggleable__control sk-hidden--visually\" id=\"bfbce046-793a-4fea-9aa6-4a9211475452\" type=\"checkbox\" ><label class=\"sk-toggleable__label\" for=\"bfbce046-793a-4fea-9aa6-4a9211475452\">SelectKBest</label><div class=\"sk-toggleable__content\"><pre>SelectKBest(k=8, score_func=<function chi2 at 0x000001F09098AC10>)</pre></div></div></div><div class=\"sk-item\"><div class=\"sk-estimator sk-toggleable\"><input class=\"sk-toggleable__control sk-hidden--visually\" id=\"225bdf57-fd47-456c-bda1-873eb301521c\" type=\"checkbox\" ><label class=\"sk-toggleable__label\" for=\"225bdf57-fd47-456c-bda1-873eb301521c\">RandomForestClassifier</label><div class=\"sk-toggleable__content\"><pre>RandomForestClassifier()</pre></div></div></div></div></div></div></div>"
      ],
      "text/plain": [
       "Pipeline(steps=[('trf1',\n",
       "                 ColumnTransformer(remainder='passthrough',\n",
       "                                   transformers=[('ordinal', OrdinalEncoder(),\n",
       "                                                  ['cap-color', 'bruises',\n",
       "                                                   'odor', 'gill-color',\n",
       "                                                   'stalk-shape', 'veil-color',\n",
       "                                                   'ring-type',\n",
       "                                                   'spore-print-color',\n",
       "                                                   'population',\n",
       "                                                   'habitat'])])),\n",
       "                ('trf2',\n",
       "                 SelectKBest(k=8,\n",
       "                             score_func=<function chi2 at 0x000001F09098AC10>)),\n",
       "                ('trf3', RandomForestClassifier())])"
      ]
     },
     "execution_count": 46,
     "metadata": {},
     "output_type": "execute_result"
    }
   ],
   "source": [
    "# train\n",
    "pipe.fit(X_train,y_train)"
   ]
  },
  {
   "cell_type": "markdown",
   "id": "e9497983",
   "metadata": {},
   "source": [
    "# Pipe analysis"
   ]
  },
  {
   "cell_type": "code",
   "execution_count": 47,
   "id": "5f26b508",
   "metadata": {},
   "outputs": [],
   "source": [
    "cols = pipe.named_steps.trf2.get_support(indices=True)"
   ]
  },
  {
   "cell_type": "code",
   "execution_count": 48,
   "id": "0ccdfa57",
   "metadata": {},
   "outputs": [],
   "source": [
    "new_features = X_train.columns[cols]"
   ]
  },
  {
   "cell_type": "code",
   "execution_count": 49,
   "id": "630834ae",
   "metadata": {},
   "outputs": [
    {
     "data": {
      "text/plain": [
       "Index(['bruises', 'odor', 'gill-color', 'stalk-shape', 'ring-type',\n",
       "       'spore-print-color', 'population', 'habitat'],\n",
       "      dtype='object')"
      ]
     },
     "execution_count": 49,
     "metadata": {},
     "output_type": "execute_result"
    }
   ],
   "source": [
    "new_features"
   ]
  },
  {
   "cell_type": "code",
   "execution_count": 50,
   "id": "508dbc4c",
   "metadata": {},
   "outputs": [],
   "source": [
    "FIN=pipe.named_steps.trf3.feature_importances_"
   ]
  },
  {
   "cell_type": "markdown",
   "id": "42674a5a",
   "metadata": {},
   "source": [
    "# Feature Importance"
   ]
  },
  {
   "cell_type": "code",
   "execution_count": 51,
   "id": "207aa43a",
   "metadata": {},
   "outputs": [
    {
     "data": {
      "image/png": "[encoded data removed]",
      "text/plain": [
       "<Figure size 576x288 with 1 Axes>"
      ]
     },
     "metadata": {
      "needs_background": "light"
     },
     "output_type": "display_data"
    }
   ],
   "source": [
    "plt.figure(figsize = (8,4))\n",
    "ax = sns.barplot(x = new_features, y =FIN)\n",
    "plt.xticks(rotation=45)\n",
    "plt.show()"
   ]
  },
  {
   "cell_type": "markdown",
   "id": "347aa456",
   "metadata": {},
   "source": [
    "# Prediction"
   ]
  },
  {
   "cell_type": "code",
   "execution_count": 52,
   "id": "b95204ad",
   "metadata": {},
   "outputs": [],
   "source": [
    "prediction = pipe.predict(X_test)"
   ]
  },
  {
   "cell_type": "code",
   "execution_count": 53,
   "id": "d35e644d",
   "metadata": {},
   "outputs": [
    {
     "data": {
      "text/plain": [
       "array([0, 0, 0, ..., 0, 0, 1])"
      ]
     },
     "execution_count": 53,
     "metadata": {},
     "output_type": "execute_result"
    }
   ],
   "source": [
    "prediction"
   ]
  },
  {
   "cell_type": "markdown",
   "id": "4234fd4f",
   "metadata": {},
   "source": [
    "# Accuracy"
   ]
  },
  {
   "cell_type": "code",
   "execution_count": 54,
   "id": "7dfc89cb",
   "metadata": {},
   "outputs": [
    {
     "data": {
      "text/plain": [
       "1.0"
      ]
     },
     "execution_count": 54,
     "metadata": {},
     "output_type": "execute_result"
    }
   ],
   "source": [
    "from sklearn.metrics import accuracy_score\n",
    "accuracy_score(y_test,prediction)"
   ]
  },
  {
   "cell_type": "markdown",
   "id": "90d5e5b7",
   "metadata": {},
   "source": [
    "# Precision recall"
   ]
  },
  {
   "cell_type": "code",
   "execution_count": 55,
   "id": "26e1a6e7",
   "metadata": {},
   "outputs": [
    {
     "name": "stdout",
     "output_type": "stream",
     "text": [
      "Accuracy: 1.0\n",
      "F1 score: 1.0\n",
      "Recall: 1.0\n",
      "Precision: 1.0\n",
      "\n",
      " clasification report:\n",
      "               precision    recall  f1-score   support\n",
      "\n",
      "           0       1.00      1.00      1.00       843\n",
      "           1       1.00      1.00      1.00       782\n",
      "\n",
      "    accuracy                           1.00      1625\n",
      "   macro avg       1.00      1.00      1.00      1625\n",
      "weighted avg       1.00      1.00      1.00      1625\n",
      "\n",
      "\n",
      " confussion matrix:\n",
      " [[843   0]\n",
      " [  0 782]]\n"
     ]
    }
   ],
   "source": [
    "from sklearn.metrics import precision_score,recall_score, confusion_matrix, classification_report,accuracy_score, f1_score\n",
    "print('Accuracy:', accuracy_score(y_test, prediction))\n",
    "print('F1 score:', f1_score(y_test, prediction))\n",
    "print('Recall:', recall_score(y_test, prediction))\n",
    "print('Precision:', precision_score(y_test, prediction))\n",
    "print('\\n clasification report:\\n', classification_report(y_test,prediction))\n",
    "print('\\n confussion matrix:\\n',confusion_matrix(y_test, prediction))"
   ]
  },
  {
   "cell_type": "markdown",
   "id": "c64ffbd5",
   "metadata": {},
   "source": [
    "# Cross Validation using Pipeline"
   ]
  },
  {
   "cell_type": "code",
   "execution_count": 56,
   "id": "63e1cbd6",
   "metadata": {},
   "outputs": [
    {
     "data": {
      "text/plain": [
       "1.0"
      ]
     },
     "execution_count": 56,
     "metadata": {},
     "output_type": "execute_result"
    }
   ],
   "source": [
    "# cross validation using cross_val_score\n",
    "from sklearn.model_selection import cross_val_score\n",
    "cross_val_score(pipe, X_train, y_train, cv=5, scoring='accuracy').mean()"
   ]
  },
  {
   "cell_type": "markdown",
   "id": "fff4a324",
   "metadata": {},
   "source": [
    "# Exporting the Pipeline"
   ]
  },
  {
   "cell_type": "code",
   "execution_count": 59,
   "id": "fc752ffe",
   "metadata": {},
   "outputs": [
    {
     "data": {
      "text/plain": [
       "array([0])"
      ]
     },
     "execution_count": 59,
     "metadata": {},
     "output_type": "execute_result"
    }
   ],
   "source": [
    "#Match this Output with Predict.ipynb for Happiness\n",
    "pipe.predict(X_train[0:1])"
   ]
  },
  {
   "cell_type": "code",
   "execution_count": 60,
   "id": "4da11a9a",
   "metadata": {},
   "outputs": [],
   "source": [
    "# export \n",
    "import pickle\n",
    "pickle.dump(pipe,open('pipe.pkl','wb'))"
   ]
  },
  {
   "cell_type": "markdown",
   "id": "91f90dc8",
   "metadata": {},
   "source": [
    "# Custom Prediction"
   ]
  },
  {
   "cell_type": "code",
   "execution_count": 57,
   "id": "69d53b14",
   "metadata": {},
   "outputs": [],
   "source": [
    "j=X_train.iloc[0,:]"
   ]
  },
  {
   "cell_type": "code",
   "execution_count": 58,
   "id": "f046015d",
   "metadata": {},
   "outputs": [
    {
     "data": {
      "text/plain": [
       "['w', 'f', 'n', 'p', 'e', 'w', 'p', 'w', 's', 'g']"
      ]
     },
     "execution_count": 58,
     "metadata": {},
     "output_type": "execute_result"
    }
   ],
   "source": [
    "#I am going to use this value as a custom data in prediction\n",
    "j.values.tolist()"
   ]
  },
  {
   "cell_type": "markdown",
   "id": "bfaefe0c",
   "metadata": {},
   "source": [
    "# Printing List for app.py"
   ]
  },
  {
   "cell_type": "code",
   "execution_count": 61,
   "id": "c230c6eb",
   "metadata": {},
   "outputs": [],
   "source": [
    "def findCL(Col_Name):\n",
    "    Col_Name=X_train[Col_Name].value_counts().index.tolist()\n",
    "    print(Col_Name)"
   ]
  },
  {
   "cell_type": "code",
   "execution_count": 62,
   "id": "c996d5ed",
   "metadata": {},
   "outputs": [],
   "source": [
    "LOL=X_train.columns.tolist()"
   ]
  },
  {
   "cell_type": "code",
   "execution_count": 63,
   "id": "d4dd4c89",
   "metadata": {},
   "outputs": [
    {
     "data": {
      "text/plain": [
       "['cap-color',\n",
       " 'bruises',\n",
       " 'odor',\n",
       " 'gill-color',\n",
       " 'stalk-shape',\n",
       " 'veil-color',\n",
       " 'ring-type',\n",
       " 'spore-print-color',\n",
       " 'population',\n",
       " 'habitat']"
      ]
     },
     "execution_count": 63,
     "metadata": {},
     "output_type": "execute_result"
    }
   ],
   "source": [
    "LOL"
   ]
  },
  {
   "cell_type": "code",
   "execution_count": 64,
   "id": "088c4bf1",
   "metadata": {},
   "outputs": [
    {
     "name": "stdout",
     "output_type": "stream",
     "text": [
      "cap-color :\n",
      "['n', 'g', 'e', 'y', 'w', 'b', 'p', 'c', 'r', 'u']\n",
      "bruises :\n",
      "['f', 't']\n",
      "odor :\n",
      "['n', 'f', 'y', 's', 'l', 'a', 'p', 'c', 'm']\n",
      "gill-color :\n",
      "['b', 'p', 'w', 'n', 'g', 'h', 'u', 'k', 'e', 'y', 'o', 'r']\n",
      "stalk-shape :\n",
      "['t', 'e']\n",
      "veil-color :\n",
      "['w', 'n', 'o', 'y']\n",
      "ring-type :\n",
      "['p', 'e', 'l', 'f', 'n']\n",
      "spore-print-color :\n",
      "['w', 'n', 'k', 'h', 'r', 'o', 'u', 'b', 'y']\n",
      "population :\n",
      "['v', 'y', 's', 'n', 'a', 'c']\n",
      "habitat :\n",
      "['d', 'g', 'p', 'l', 'u', 'm', 'w']\n"
     ]
    }
   ],
   "source": [
    "for i in LOL:\n",
    "    print(i + ' :')\n",
    "    findCL(i)"
   ]
  }
 ],
 "metadata": {
  "kernelspec": {
   "display_name": "Python 3 (ipykernel)",
   "language": "python",
   "name": "python3"
  },
  "language_info": {
   "codemirror_mode": {
    "name": "ipython",
    "version": 3
   },
   "file_extension": ".py",
   "mimetype": "text/x-python",
   "name": "python",
   "nbconvert_exporter": "python",
   "pygments_lexer": "ipython3",
   "version": "3.9.7"
  }
 },
 "nbformat": 4,
 "nbformat_minor": 5
}
