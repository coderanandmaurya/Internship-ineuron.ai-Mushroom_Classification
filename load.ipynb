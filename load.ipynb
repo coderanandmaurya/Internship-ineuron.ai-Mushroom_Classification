{
 "cells": [
  {
   "cell_type": "code",
   "execution_count": 1,
   "id": "07e04952",
   "metadata": {},
   "outputs": [
    {
     "name": "stdout",
     "output_type": "stream",
     "text": [
      "4.0.0.6816\n"
     ]
    }
   ],
   "source": [
    "from cassandra.cluster import Cluster\n",
    "from cassandra.auth import PlainTextAuthProvider\n",
    "\n",
    "cloud_config= {'secure_connect_bundle': 'F:\\INTERNSHIP\\MS\\secure-connect-mushroomclassificationapp.zip'\n",
    "}\n",
    "auth_provider = PlainTextAuthProvider('osAwvxWvfldbJyZbsKWdvdUy', '6vhSlvZokW-peh9_Uin.ttf.6i-JegRYrnst138YLlwIZuZ99qfYjA9cai6laL.ZoO6K5tUPJ3tHv1vr.q7ZkNH8UMTb6oyLe2IkkbI75mxhfHgCsPL1rJ.,5wXZUjkT')\n",
    "cluster = Cluster(cloud=cloud_config, auth_provider=auth_provider)\n",
    "\n",
    "session = cluster.connect()\n",
    "\n",
    "\n",
    "row = session.execute(\"select release_version from system.local\").one()\n",
    "if row:\n",
    "    print(row[0])\n",
    "else:\n",
    "    print(\"An error occurred.\")"
   ]
  },
  {
   "cell_type": "code",
   "execution_count": 2,
   "id": "50bd2959",
   "metadata": {},
   "outputs": [],
   "source": [
    "import pandas as pd\n",
    "def pandas_factory(colnames, rows):\n",
    "    return pd.DataFrame(rows, columns=colnames)\n",
    "\n",
    "session.row_factory = pandas_factory\n",
    "session.default_fetch_size = None\n",
    "\n",
    "query = \"SELECT * FROM mca.mushrooms\"\n",
    "rslt = session.execute(query, timeout=None)\n",
    "df = rslt._current_rows"
   ]
  },
  {
   "cell_type": "code",
   "execution_count": 3,
   "id": "f715fca9",
   "metadata": {},
   "outputs": [
    {
     "data": {
      "text/plain": [
       "(8124, 23)"
      ]
     },
     "execution_count": 3,
     "metadata": {},
     "output_type": "execute_result"
    }
   ],
   "source": [
    "df.shape"
   ]
  },
  {
   "cell_type": "code",
   "execution_count": null,
   "id": "4e5a2e72",
   "metadata": {},
   "outputs": [],
   "source": []
  }
 ],
 "metadata": {
  "kernelspec": {
   "display_name": "Python 3 (ipykernel)",
   "language": "python",
   "name": "python3"
  },
  "language_info": {
   "codemirror_mode": {
    "name": "ipython",
    "version": 3
   },
   "file_extension": ".py",
   "mimetype": "text/x-python",
   "name": "python",
   "nbconvert_exporter": "python",
   "pygments_lexer": "ipython3",
   "version": "3.9.7"
  }
 },
 "nbformat": 4,
 "nbformat_minor": 5
}
